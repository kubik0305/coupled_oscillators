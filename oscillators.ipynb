{
 "cells": [
  {
   "cell_type": "code",
   "outputs": [
    {
     "data": {
      "text/plain": "VBox(children=(FloatSlider(value=1.5, description='Stała sprężystości', max=2.0, min=0.1, step=0.01), FloatSli…",
      "application/vnd.jupyter.widget-view+json": {
       "version_major": 2,
       "version_minor": 0,
       "model_id": "46a63e173a0f45a0ba5185ba291ac9a0"
      }
     },
     "metadata": {},
     "output_type": "display_data"
    },
    {
     "data": {
      "text/plain": "Output()",
      "application/vnd.jupyter.widget-view+json": {
       "version_major": 2,
       "version_minor": 0,
       "model_id": "a98e3ba7b8194da888385e1e066a3dbc"
      }
     },
     "metadata": {},
     "output_type": "display_data"
    }
   ],
   "source": [
    "import numpy as np\n",
    "import matplotlib.pyplot as plt\n",
    "from ipywidgets import interact, FloatSlider, VBox, Output\n",
    "import IPython.display as display\n",
    "from scipy.integrate import solve_ivp\n",
    "\n",
    "y0 = [0, 0.0, 0.3, 0.0] # warunki początkowe: x1, v1, x2, v2\n",
    "\n",
    "timebases = [20, 300, 100]\n",
    "\n",
    "# równania różniczkowe oscylatorów\n",
    "def coupled_oscillators(t, y, k, ks, c):\n",
    "    m1, m2 = 1.0, 1.0  # masy obiektów\n",
    "    L = 1  # stała długość sprężyny\n",
    "    x1, v1, x2, v2 = y\n",
    "    \n",
    "    # Równania ruchu\n",
    "    dx1dt = v1\n",
    "    dv1dt = (-k*x1 + ks*(x2 - x1 - L) - c*v1) / m1\n",
    "    dx2dt = v2\n",
    "    dv2dt = (-k*(x2 - L)+ ks*(x1 - x2 + L) - c*v2) / m2\n",
    "\n",
    "    return [dx1dt, dv1dt, dx2dt, dv2dt]\n",
    "\n",
    "def solve_ode_n(k, ks, c, y0, n):\n",
    "    t_span = (0, n)\n",
    "    t_eval = np.linspace(0, n, 50*n)\n",
    "    sol = solve_ivp(coupled_oscillators, t_span, y0, args=(k, ks, c), t_eval=t_eval)\n",
    "    return sol.t, sol.y\n",
    "\n",
    "def update_graph_n(k, ks, c, n, ax):\n",
    "    ax.clear()\n",
    "    t, y = solve_ode_n(k, ks, c, y0, n)\n",
    "    ax.set_xlim(0, n)\n",
    "    ax.set_ylim(-2, 2)\n",
    "    ax.set_xlabel('Czas')\n",
    "    ax.set_ylabel('Przemieszczenie')\n",
    "    ax.grid()\n",
    "    line1, = ax.plot(t, y[0], lw=1.5, color='blue', label='Oscylator 1')\n",
    "    line2, = ax.plot(t, y[2], lw=1, color='red', label='Oscylator 2')\n",
    "    ax.legend()\n",
    "    with output:\n",
    "        display.display(ax.figure)\n",
    "\n",
    "def update_all(change):\n",
    "    output.clear_output(wait=True)\n",
    "    for n in timebases:\n",
    "        fig, ax = plt.subplots()\n",
    "        update_graph_n(spring_slider.value, coupling_slider.value, damping_slider.value, n, ax)\n",
    "    \n",
    "        \n",
    "spring_slider = FloatSlider(min=0.1, max=2.0, step=0.01, value=1.5, description='Stała sprężystości')\n",
    "coupling_slider = FloatSlider(min=0.01, max=0.2, step=0.01, value=0.2, description='Sprzężenie')\n",
    "damping_slider = FloatSlider(min=0.001, max=0.05 , step=0.001, value=0.05, description='Tłumienie')\n",
    "\n",
    "ui = VBox([spring_slider, coupling_slider, damping_slider])\n",
    "output = Output()\n",
    "\n",
    "spring_slider.observe(update_all, names='value')\n",
    "coupling_slider.observe(update_all, names='value')\n",
    "damping_slider.observe(update_all, names='value')\n",
    "\n",
    "display.display(ui)\n",
    "display.display(output)"
   ],
   "metadata": {
    "collapsed": false,
    "ExecuteTime": {
     "end_time": "2024-06-24T13:18:14.464981600Z",
     "start_time": "2024-06-24T13:18:14.419535800Z"
    }
   },
   "id": "b235c1a96cb6212a",
   "execution_count": 94
  },
  {
   "cell_type": "code",
   "outputs": [],
   "source": [],
   "metadata": {
    "collapsed": false,
    "ExecuteTime": {
     "end_time": "2024-06-24T13:18:14.466886400Z",
     "start_time": "2024-06-24T13:18:14.456122600Z"
    }
   },
   "id": "b4f0fd299ccbe662",
   "execution_count": 94
  }
 ],
 "metadata": {
  "kernelspec": {
   "display_name": "Python 3",
   "language": "python",
   "name": "python3"
  },
  "language_info": {
   "codemirror_mode": {
    "name": "ipython",
    "version": 2
   },
   "file_extension": ".py",
   "mimetype": "text/x-python",
   "name": "python",
   "nbconvert_exporter": "python",
   "pygments_lexer": "ipython2",
   "version": "2.7.6"
  }
 },
 "nbformat": 4,
 "nbformat_minor": 5
}
